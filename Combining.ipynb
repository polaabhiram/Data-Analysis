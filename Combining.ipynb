{
  "nbformat": 4,
  "nbformat_minor": 0,
  "metadata": {
    "colab": {
      "provenance": []
    },
    "kernelspec": {
      "name": "python3",
      "display_name": "Python 3"
    },
    "language_info": {
      "name": "python"
    }
  },
  "cells": [
    {
      "cell_type": "code",
      "source": [
        "import pandas as pd\n",
        "\n",
        "# Load two datasets (assuming they have common columns for merging and joining)\n",
        "df1 = pd.read_csv(\"/content/delhi_aqi.csv\")\n",
        "df2 = pd.read_csv(\"/content/delhi_aqi.csv\")\n",
        "\n",
        "# Strip any leading or trailing spaces in column names\n",
        "df1.columns = df1.columns.str.strip()\n",
        "df2.columns = df2.columns.str.strip()\n",
        "\n",
        "# Display column names to verify common columns\n",
        "print(\"DF1 Columns:\", df1.columns)\n",
        "print(\"DF2 Columns:\", df2.columns)\n",
        "\n",
        "# Identify a common column for merging\n",
        "common_column = \"date\"  # Updated to use an actual common column\n",
        "\n",
        "# 1. Concatenating DataFrames (stacking them on top of each other)\n",
        "df_concat = pd.concat([df1, df2], ignore_index=True)\n",
        "\n",
        "# 2. Merging DataFrames based on a common column\n",
        "df_merge = pd.merge(df1, df2, on=common_column, how=\"inner\")\n",
        "\n",
        "# 3. Performing different types of joins\n",
        "inner_join = df1.merge(df2, on=common_column, how=\"inner\")\n",
        "left_join = df1.merge(df2, on=common_column, how=\"left\")\n",
        "right_join = df1.merge(df2, on=common_column, how=\"right\")\n",
        "outer_join = df1.merge(df2, on=common_column, how=\"outer\")\n",
        "\n",
        "# 4. Aggregation and Grouping (grouping data and computing statistics)\n",
        "grouped = df1.groupby(\"so2\").agg({\"pm2_5\": [\"mean\", \"sum\", \"count\"]})\n",
        "\n",
        "# 5. Creating a Pivot Table to summarize data\n",
        "pivot_table = df1.pivot_table(index=\"so2\", values=\"pm2_5\", aggfunc=\"mean\")\n",
        "\n",
        "# Display results\n",
        "print(\"Concatenated DataFrame:\", df_concat.head())\n",
        "print(\"Merged DataFrame:\", df_merge.head())\n",
        "print(\"Grouped Data:\", grouped.head())\n",
        "print(\"Pivot Table:\", pivot_table.head())\n"
      ],
      "metadata": {
        "colab": {
          "base_uri": "https://localhost:8080/"
        },
        "id": "yy9VaBMdKfX-",
        "outputId": "40cde8b4-45bb-49dc-e544-ccb083602518"
      },
      "execution_count": 20,
      "outputs": [
        {
          "output_type": "stream",
          "name": "stdout",
          "text": [
            "DF1 Columns: Index(['date', 'co', 'no', 'no2', 'o3', 'so2', 'pm2_5', 'pm10', 'nh3'], dtype='object')\n",
            "DF2 Columns: Index(['date', 'co', 'no', 'no2', 'o3', 'so2', 'pm2_5', 'pm10', 'nh3'], dtype='object')\n",
            "Concatenated DataFrame:                   date       co     no     no2     o3    so2   pm2_5    pm10  \\\n",
            "0  2020-11-25 01:00:00  2616.88   2.18   70.60  13.59  38.62  364.61  411.73   \n",
            "1  2020-11-25 02:00:00  3631.59  23.25   89.11   0.33  54.36  420.96  486.21   \n",
            "2  2020-11-25 03:00:00  4539.49  52.75  100.08   1.11  68.67  463.68  541.95   \n",
            "3  2020-11-25 04:00:00  4539.49  50.96  111.04   6.44  78.20  454.81  534.00   \n",
            "4  2020-11-25 05:00:00  4379.27  42.92  117.90  17.17  87.74  448.14  529.19   \n",
            "\n",
            "     nh3  \n",
            "0  28.63  \n",
            "1  41.04  \n",
            "2  49.14  \n",
            "3  48.13  \n",
            "4  46.61  \n",
            "Merged DataFrame:                   date     co_x   no_x   no2_x   o3_x  so2_x  pm2_5_x  pm10_x  \\\n",
            "0  2020-11-25 01:00:00  2616.88   2.18   70.60  13.59  38.62   364.61  411.73   \n",
            "1  2020-11-25 02:00:00  3631.59  23.25   89.11   0.33  54.36   420.96  486.21   \n",
            "2  2020-11-25 03:00:00  4539.49  52.75  100.08   1.11  68.67   463.68  541.95   \n",
            "3  2020-11-25 04:00:00  4539.49  50.96  111.04   6.44  78.20   454.81  534.00   \n",
            "4  2020-11-25 05:00:00  4379.27  42.92  117.90  17.17  87.74   448.14  529.19   \n",
            "\n",
            "   nh3_x     co_y   no_y   no2_y   o3_y  so2_y  pm2_5_y  pm10_y  nh3_y  \n",
            "0  28.63  2616.88   2.18   70.60  13.59  38.62   364.61  411.73  28.63  \n",
            "1  41.04  3631.59  23.25   89.11   0.33  54.36   420.96  486.21  41.04  \n",
            "2  49.14  4539.49  52.75  100.08   1.11  68.67   463.68  541.95  49.14  \n",
            "3  48.13  4539.49  50.96  111.04   6.44  78.20   454.81  534.00  48.13  \n",
            "4  46.61  4379.27  42.92  117.90  17.17  87.74   448.14  529.19  46.61  \n",
            "Grouped Data:        pm2_5              \n",
            "        mean     sum count\n",
            "so2                       \n",
            "5.25  223.43  223.43     1\n",
            "5.84  204.45  204.45     1\n",
            "6.02  241.21  241.21     1\n",
            "7.15   40.56   40.56     1\n",
            "7.45   42.89   85.78     2\n",
            "Pivot Table:        pm2_5\n",
            "so2         \n",
            "5.25  223.43\n",
            "5.84  204.45\n",
            "6.02  241.21\n",
            "7.15   40.56\n",
            "7.45   42.89\n"
          ]
        }
      ]
    }
  ]
}