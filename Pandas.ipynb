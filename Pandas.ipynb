{
  "nbformat": 4,
  "nbformat_minor": 0,
  "metadata": {
    "colab": {
      "provenance": []
    },
    "kernelspec": {
      "name": "python3",
      "display_name": "Python 3"
    },
    "language_info": {
      "name": "python"
    }
  },
  "cells": [
    {
      "cell_type": "code",
      "execution_count": 1,
      "metadata": {
        "id": "BTYbiajXCbj_"
      },
      "outputs": [],
      "source": [
        "import pandas as pd\n",
        "import numpy as np\n",
        "\n",
        "# Load the dataset\n",
        "\n",
        "df = pd.read_csv(\"/content/delhi_aqi.csv\")"
      ]
    },
    {
      "cell_type": "code",
      "source": [
        "# 1. Working with Series and DataFrame\n",
        "print(\"First few rows of the DataFrame:\")\n",
        "print(df.head())"
      ],
      "metadata": {
        "colab": {
          "base_uri": "https://localhost:8080/"
        },
        "id": "opHNnZXhC22G",
        "outputId": "76672d69-087d-41ce-861c-ac1d518a7b28"
      },
      "execution_count": 5,
      "outputs": [
        {
          "output_type": "stream",
          "name": "stdout",
          "text": [
            "First few rows of the DataFrame:\n",
            "                  date       co     no     no2     o3    so2   pm2_5    pm10  \\\n",
            "0  2020-11-25 01:00:00  2616.88   2.18   70.60  13.59  38.62  364.61  411.73   \n",
            "1  2020-11-25 02:00:00  3631.59  23.25   89.11   0.33  54.36  420.96  486.21   \n",
            "2  2020-11-25 03:00:00  4539.49  52.75  100.08   1.11  68.67  463.68  541.95   \n",
            "3  2020-11-25 04:00:00  4539.49  50.96  111.04   6.44  78.20  454.81  534.00   \n",
            "4  2020-11-25 05:00:00  4379.27  42.92  117.90  17.17  87.74  448.14  529.19   \n",
            "\n",
            "     nh3  \n",
            "0  28.63  \n",
            "1  41.04  \n",
            "2  49.14  \n",
            "3  48.13  \n",
            "4  46.61  \n"
          ]
        }
      ]
    },
    {
      "cell_type": "code",
      "source": [
        "# Convert one column to a Pandas Series\n",
        "print(df.columns)# printing all the columns\n",
        "aqi_series = df['date']\n",
        "\n",
        "print(\"Series object from date column:\")\n",
        "print(aqi_series.head())"
      ],
      "metadata": {
        "colab": {
          "base_uri": "https://localhost:8080/"
        },
        "id": "DV9MBG9cCzxv",
        "outputId": "8b742e94-0a84-42c9-a711-d244ca02de5d"
      },
      "execution_count": 19,
      "outputs": [
        {
          "output_type": "stream",
          "name": "stdout",
          "text": [
            "Index(['date', 'co', 'no', 'no2', 'o3', 'so2', 'pm2_5', 'pm10', 'nh3'], dtype='object')\n",
            "Series object from date column:\n",
            "0    2020-11-25 01:00:00\n",
            "1    2020-11-25 02:00:00\n",
            "2    2020-11-25 03:00:00\n",
            "3    2020-11-25 04:00:00\n",
            "4    2020-11-25 05:00:00\n",
            "Name: date, dtype: object\n"
          ]
        }
      ]
    },
    {
      "cell_type": "code",
      "source": [
        "# 2. Indexing and selecting data\n",
        "print(\"Selecting a specific column:\")\n",
        "print(df['pm2_5'].head())  # Selecting a single column\n",
        "\n",
        "print(\"Selecting multiple columns:\")\n",
        "print(df[['pm2_5', 'pm10']].head())  # Selecting multiple columns\n",
        "\n",
        "print(\"Selecting rows using loc and iloc:\")\n",
        "print(df.loc[0])  # Selecting first row by label\n",
        "print(df.iloc[0])  # Selecting first row by index"
      ],
      "metadata": {
        "colab": {
          "base_uri": "https://localhost:8080/"
        },
        "id": "Hcs1pZOnChr_",
        "outputId": "79407847-feab-4b3a-d3b7-35d9b50d9dd5"
      },
      "execution_count": 20,
      "outputs": [
        {
          "output_type": "stream",
          "name": "stdout",
          "text": [
            "Selecting a specific column:\n",
            "0    364.61\n",
            "1    420.96\n",
            "2    463.68\n",
            "3    454.81\n",
            "4    448.14\n",
            "Name: pm2_5, dtype: float64\n",
            "Selecting multiple columns:\n",
            "    pm2_5    pm10\n",
            "0  364.61  411.73\n",
            "1  420.96  486.21\n",
            "2  463.68  541.95\n",
            "3  454.81  534.00\n",
            "4  448.14  529.19\n",
            "Selecting rows using loc and iloc:\n",
            "date     2020-11-25 01:00:00\n",
            "co                   2616.88\n",
            "no                      2.18\n",
            "no2                     70.6\n",
            "o3                     13.59\n",
            "so2                    38.62\n",
            "pm2_5                 364.61\n",
            "pm10                  411.73\n",
            "nh3                    28.63\n",
            "Name: 0, dtype: object\n",
            "date     2020-11-25 01:00:00\n",
            "co                   2616.88\n",
            "no                      2.18\n",
            "no2                     70.6\n",
            "o3                     13.59\n",
            "so2                    38.62\n",
            "pm2_5                 364.61\n",
            "pm10                  411.73\n",
            "nh3                    28.63\n",
            "Name: 0, dtype: object\n"
          ]
        }
      ]
    },
    {
      "cell_type": "code",
      "source": [
        "# 3. Using universal functions for index preservation\n",
        "data = df.select_dtypes(include=[np.number]).values\n",
        "square_root = np.sqrt(data)  # Square root of each element\n",
        "log_values = np.log1p(data)  # Natural log (log(1 + x) to avoid log(0) errors)\n",
        "exponential = np.exp(data)  # Exponential function\n",
        "absolute_values = np.abs(data)  # Absolute values\n",
        "\n",
        "print(\"Square Root:\")\n",
        "print(square_root)\n",
        "print(\"Natural Log:\")\n",
        "print(log_values)\n",
        "print(\"Exponential Function:\")\n",
        "print(exponential)\n",
        "print(\"Absolute Values:\")\n",
        "print(absolute_values)"
      ],
      "metadata": {
        "colab": {
          "base_uri": "https://localhost:8080/"
        },
        "id": "9d7F4gfQClBw",
        "outputId": "cb01208c-89db-456c-b50b-f841f4533ae6"
      },
      "execution_count": 26,
      "outputs": [
        {
          "output_type": "stream",
          "name": "stdout",
          "text": [
            "Square Root:\n",
            "[[51.15544937  1.47648231  8.40238062 ...  6.21449918 20.29113107\n",
            "   5.35070089]\n",
            " [60.26267502  4.82182538  9.43980932 ...  7.37292344 22.05017007\n",
            "   6.40624695]\n",
            " [67.37573747  7.26291952 10.0039992  ...  8.28673639 23.27981959\n",
            "   7.00999287]\n",
            " ...\n",
            " [43.8475769   2.85657137  6.33245608 ...  6.58710862 17.20668475\n",
            "   3.54118624]\n",
            " [36.90325189  3.00832179  7.26498451 ... 10.00699755 13.84990975\n",
            "   2.73313007]\n",
            " [33.68783163  2.93428015  7.54254599 ... 10.51807967 11.84314148\n",
            "   2.34733892]]\n",
            "Natural Log:\n",
            "[[7.87012011 1.1568812  4.27109507 ... 3.67933404 6.02279363 3.38878736]\n",
            " [8.19770117 3.18841662 4.50103115 ... 4.01385731 6.18869524 3.73862155]\n",
            " [8.42079021 3.98434367 4.61591228 ... 4.24376981 6.29701723 3.91481909]\n",
            " ...\n",
            " [7.56195891 2.21484618 3.71600812 ... 3.79301422 5.6939678  2.60564827]\n",
            " [7.21733337 2.30757263 3.98490165 ... 4.6165057  5.26175711 2.13653051]\n",
            " [7.03515416 2.26280422 4.05854466 ... 4.71518983 4.95060216 1.87333946]]\n",
            "Exponential Function:\n",
            "[[            inf 8.84630626e+000 4.58342809e+030 ... 5.92178848e+016\n",
            "  6.48734559e+178 2.71550756e+012]\n",
            " [            inf 1.25125753e+010 5.01165633e+038 ... 4.05740197e+023\n",
            "  1.43985927e+211 6.65956002e+017]\n",
            " [            inf 8.11024400e+022 2.91200254e+043 ... 6.65276331e+029\n",
            "  2.32217245e+235 2.19397079e+021]\n",
            " ...\n",
            " [            inf 3.49818660e+003 2.60140951e+017 ... 6.98292809e+018\n",
            "  3.81563881e+128 2.79288339e+005]\n",
            " [            inf 8.51853792e+003 8.35723770e+022 ... 3.09207072e+043\n",
            "  2.02473187e+083 1.75460669e+003]\n",
            " [            inf 5.48624868e+003 5.09346206e+024 ... 1.11172797e+048\n",
            "  8.20623655e+060 2.47151127e+002]]\n",
            "Absolute Values:\n",
            "[[2.61688e+03 2.18000e+00 7.06000e+01 ... 3.86200e+01 4.11730e+02\n",
            "  2.86300e+01]\n",
            " [3.63159e+03 2.32500e+01 8.91100e+01 ... 5.43600e+01 4.86210e+02\n",
            "  4.10400e+01]\n",
            " [4.53949e+03 5.27500e+01 1.00080e+02 ... 6.86700e+01 5.41950e+02\n",
            "  4.91400e+01]\n",
            " ...\n",
            " [1.92261e+03 8.16000e+00 4.01000e+01 ... 4.33900e+01 2.96070e+02\n",
            "  1.25400e+01]\n",
            " [1.36185e+03 9.05000e+00 5.27800e+01 ... 1.00140e+02 1.91820e+02\n",
            "  7.47000e+00]\n",
            " [1.13487e+03 8.61000e+00 5.68900e+01 ... 1.10630e+02 1.40260e+02\n",
            "  5.51000e+00]]\n"
          ]
        },
        {
          "output_type": "stream",
          "name": "stderr",
          "text": [
            "<ipython-input-26-f6c6ee5a769a>:5: RuntimeWarning: overflow encountered in exp\n",
            "  exponential = np.exp(data)  # Exponential function\n"
          ]
        }
      ]
    },
    {
      "cell_type": "code",
      "source": [
        "# 4. Index alignment and operations between Series and DataFrames\n",
        "mean_values = df.mean(numeric_only=True)\n",
        "print(\"Subtracting mean from each column:\")\n",
        "print(df.subtract(mean_values))"
      ],
      "metadata": {
        "colab": {
          "base_uri": "https://localhost:8080/"
        },
        "id": "HYPnoL7_CljG",
        "outputId": "8254a2c1-e30e-4853-d6ec-27a5a8f12cb4"
      },
      "execution_count": 8,
      "outputs": [
        {
          "output_type": "stream",
          "name": "stdout",
          "text": [
            "Subtracting mean from each column:\n",
            "                co date        nh3         no        no2         o3  \\\n",
            "0      -312.348628  NaN   3.520185 -31.480702   4.378701 -46.756239   \n",
            "1       702.361372  NaN  15.930185 -10.410702  22.888701 -60.016239   \n",
            "2      1610.261372  NaN  24.030185  19.089298  33.858701 -59.236239   \n",
            "3      1610.261372  NaN  23.020185  17.299298  44.818701 -53.906239   \n",
            "4      1450.041372  NaN  21.500185   9.259298  51.678701 -43.176239   \n",
            "...            ...  ...        ...        ...        ...        ...   \n",
            "18771 -1166.838628  NaN -18.839815 -29.020702 -29.211299 -27.086239   \n",
            "18772 -1193.538628  NaN -15.989815 -26.840702 -31.261299 -13.856239   \n",
            "18773 -1006.618628  NaN -12.569815 -25.500702 -26.121299  -3.836239   \n",
            "18774 -1567.378628  NaN -17.639815 -24.610702 -13.441299  11.183761   \n",
            "18775 -1794.358628  NaN -19.599815 -25.050702  -9.331299  19.763761   \n",
            "\n",
            "             pm10       pm2_5        so2  \n",
            "0      111.637034  126.479691 -28.073633  \n",
            "1      186.117034  182.829691 -12.333633  \n",
            "2      241.857034  225.549691   1.976367  \n",
            "3      233.907034  216.679691  11.506367  \n",
            "4      229.097034  210.009691  21.046367  \n",
            "...           ...         ...        ...  \n",
            "18771  -10.252966   -6.980309 -36.173633  \n",
            "18772  -19.572966  -13.050309 -32.363633  \n",
            "18773   -4.022966    4.359691 -23.303633  \n",
            "18774 -108.272966  -72.460309  33.446367  \n",
            "18775 -159.832966 -114.370309  43.936367  \n",
            "\n",
            "[18776 rows x 9 columns]\n"
          ]
        }
      ]
    },
    {
      "cell_type": "code",
      "source": [
        "# 5. Handling missing data\n",
        "df.fillna(df.mean(numeric_only=True), inplace=True)  # Fill missing values with mean\n",
        "print(\"Missing values handled using mean replacement.\")"
      ],
      "metadata": {
        "colab": {
          "base_uri": "https://localhost:8080/"
        },
        "id": "8HBan2mzCnzm",
        "outputId": "e26aa421-b80a-4c5e-85b0-368cd223063c"
      },
      "execution_count": 9,
      "outputs": [
        {
          "output_type": "stream",
          "name": "stdout",
          "text": [
            "Missing values handled using mean replacement.\n"
          ]
        }
      ]
    },
    {
      "cell_type": "code",
      "source": [
        "# 6. Operating on null values\n",
        "print(\"Checking for null values:\")\n",
        "print(df.isnull().sum())  # Count of missing values per column"
      ],
      "metadata": {
        "colab": {
          "base_uri": "https://localhost:8080/"
        },
        "id": "_3L2qphJCpyb",
        "outputId": "6650db52-de63-451b-d997-871e2f29a2b8"
      },
      "execution_count": 10,
      "outputs": [
        {
          "output_type": "stream",
          "name": "stdout",
          "text": [
            "Checking for null values:\n",
            "date     0\n",
            "co       0\n",
            "no       0\n",
            "no2      0\n",
            "o3       0\n",
            "so2      0\n",
            "pm2_5    0\n",
            "pm10     0\n",
            "nh3      0\n",
            "dtype: int64\n"
          ]
        }
      ]
    },
    {
      "cell_type": "code",
      "source": [
        "# 7. Hierarchical Indexing\n",
        "df.set_index(['date', 'pm2_5'], inplace=True)\n",
        "print(\"DataFrame after setting hierarchical index:\")\n",
        "print(df.head())"
      ],
      "metadata": {
        "colab": {
          "base_uri": "https://localhost:8080/"
        },
        "id": "2RhVOpcCCsFS",
        "outputId": "6039bfc7-987f-45fb-ce63-5e0495eda05b"
      },
      "execution_count": 23,
      "outputs": [
        {
          "output_type": "stream",
          "name": "stdout",
          "text": [
            "DataFrame after setting hierarchical index:\n",
            "                                 co     no     no2     o3    so2    pm10  \\\n",
            "date                pm2_5                                                  \n",
            "2020-11-25 01:00:00 364.61  2616.88   2.18   70.60  13.59  38.62  411.73   \n",
            "2020-11-25 02:00:00 420.96  3631.59  23.25   89.11   0.33  54.36  486.21   \n",
            "2020-11-25 03:00:00 463.68  4539.49  52.75  100.08   1.11  68.67  541.95   \n",
            "2020-11-25 04:00:00 454.81  4539.49  50.96  111.04   6.44  78.20  534.00   \n",
            "2020-11-25 05:00:00 448.14  4379.27  42.92  117.90  17.17  87.74  529.19   \n",
            "\n",
            "                              nh3  \n",
            "date                pm2_5          \n",
            "2020-11-25 01:00:00 364.61  28.63  \n",
            "2020-11-25 02:00:00 420.96  41.04  \n",
            "2020-11-25 03:00:00 463.68  49.14  \n",
            "2020-11-25 04:00:00 454.81  48.13  \n",
            "2020-11-25 05:00:00 448.14  46.61  \n"
          ]
        }
      ]
    }
  ]
}