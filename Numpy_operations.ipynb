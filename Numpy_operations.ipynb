{
  "nbformat": 4,
  "nbformat_minor": 0,
  "metadata": {
    "colab": {
      "provenance": []
    },
    "kernelspec": {
      "name": "python3",
      "display_name": "Python 3"
    },
    "language_info": {
      "name": "python"
    }
  },
  "cells": [
    {
      "cell_type": "code",
      "execution_count": 3,
      "metadata": {
        "collapsed": true,
        "id": "K5qYIVav9oWK"
      },
      "outputs": [],
      "source": [
        "import numpy as np\n",
        "import pandas as pd\n",
        "\n",
        "# Load the dataset\n",
        "\n",
        "df = pd.read_csv(\"/content/delhi_aqi.csv\")\n",
        "\n",
        "# Convert numerical columns to a NumPy array (ignoring the 'date' column)\n",
        "data = df.iloc[:, 1:].values\n"
      ]
    },
    {
      "cell_type": "code",
      "source": [
        "# 1. Checking the data type using dtype parameter\n",
        "print(\"Data Type of the array:\", data.dtype)"
      ],
      "metadata": {
        "colab": {
          "base_uri": "https://localhost:8080/",
          "height": 0
        },
        "id": "rOFloTSb_C5O",
        "outputId": "0e03f0d6-dff2-42c8-a8d5-1a8a11055161"
      },
      "execution_count": 4,
      "outputs": [
        {
          "output_type": "stream",
          "name": "stdout",
          "text": [
            "Data Type of the array: float64\n"
          ]
        }
      ]
    },
    {
      "cell_type": "code",
      "source": [
        "# 2. creating a random array using np.random\n",
        "random_array = np.random.rand(5, 5)\n",
        "print(\"Random Array:\", random_array)"
      ],
      "metadata": {
        "colab": {
          "base_uri": "https://localhost:8080/",
          "height": 0
        },
        "id": "il_tstyC_ONK",
        "outputId": "d6b75e3e-e23b-4262-a808-60f9294ca98b"
      },
      "execution_count": 6,
      "outputs": [
        {
          "output_type": "stream",
          "name": "stdout",
          "text": [
            "Random Array: [[0.00366381 0.68352303 0.98639453 0.20297084 0.86127073]\n",
            " [0.44095534 0.55866181 0.21768111 0.00299818 0.91356912]\n",
            " [0.73685697 0.63090312 0.23735596 0.04475376 0.14801059]\n",
            " [0.38601212 0.55333576 0.59490042 0.27746828 0.00805554]\n",
            " [0.5975309  0.86026083 0.40762127 0.71730599 0.05998878]]\n"
          ]
        }
      ]
    },
    {
      "cell_type": "code",
      "source": [
        "# 3. Indexing\n",
        "print(\"First row of data:\", data[0])  # Grab the first row\n",
        "print(\"Element at row 1, column 2:\", data[0, 1])  # Get a specific element\n"
      ],
      "metadata": {
        "colab": {
          "base_uri": "https://localhost:8080/",
          "height": 0
        },
        "id": "g5UHUCIR_Q0F",
        "outputId": "8cd55f03-907d-418d-e2d1-2d45e41ed9cd"
      },
      "execution_count": 7,
      "outputs": [
        {
          "output_type": "stream",
          "name": "stdout",
          "text": [
            "First row of data: [2.61688e+03 2.18000e+00 7.06000e+01 1.35900e+01 3.86200e+01 3.64610e+02\n",
            " 4.11730e+02 2.86300e+01]\n",
            "Element at row 1, column 2: 2.18\n"
          ]
        }
      ]
    },
    {
      "cell_type": "code",
      "source": [
        "# 4. Slicing\n",
        "print(\"First 5 rows:\", data[:5])  # Get the first 5 rows\n",
        "print(\"First 3 columns:\", data[:, :3])  # Get the first 3 columns"
      ],
      "metadata": {
        "colab": {
          "base_uri": "https://localhost:8080/",
          "height": 0
        },
        "id": "T1Tdob8y_Uda",
        "outputId": "955996d1-e9e3-43cb-ef39-cc930649851c"
      },
      "execution_count": 8,
      "outputs": [
        {
          "output_type": "stream",
          "name": "stdout",
          "text": [
            "First 5 rows: [[2.61688e+03 2.18000e+00 7.06000e+01 1.35900e+01 3.86200e+01 3.64610e+02\n",
            "  4.11730e+02 2.86300e+01]\n",
            " [3.63159e+03 2.32500e+01 8.91100e+01 3.30000e-01 5.43600e+01 4.20960e+02\n",
            "  4.86210e+02 4.10400e+01]\n",
            " [4.53949e+03 5.27500e+01 1.00080e+02 1.11000e+00 6.86700e+01 4.63680e+02\n",
            "  5.41950e+02 4.91400e+01]\n",
            " [4.53949e+03 5.09600e+01 1.11040e+02 6.44000e+00 7.82000e+01 4.54810e+02\n",
            "  5.34000e+02 4.81300e+01]\n",
            " [4.37927e+03 4.29200e+01 1.17900e+02 1.71700e+01 8.77400e+01 4.48140e+02\n",
            "  5.29190e+02 4.66100e+01]]\n",
            "First 3 columns: [[2.61688e+03 2.18000e+00 7.06000e+01]\n",
            " [3.63159e+03 2.32500e+01 8.91100e+01]\n",
            " [4.53949e+03 5.27500e+01 1.00080e+02]\n",
            " ...\n",
            " [1.92261e+03 8.16000e+00 4.01000e+01]\n",
            " [1.36185e+03 9.05000e+00 5.27800e+01]\n",
            " [1.13487e+03 8.61000e+00 5.68900e+01]]\n"
          ]
        }
      ]
    },
    {
      "cell_type": "code",
      "source": [
        "# 5. Reshaping the first 25 elements into a 3D array\n",
        "reshaped_array = data[:25].reshape(5, 5, -1)\n",
        "print(\"Reshaped array shape:\", reshaped_array.shape)"
      ],
      "metadata": {
        "colab": {
          "base_uri": "https://localhost:8080/",
          "height": 0
        },
        "id": "x2jf_p8Z_WOc",
        "outputId": "187a4f23-2cd0-4f0a-e46a-06de0b60e0e4"
      },
      "execution_count": 9,
      "outputs": [
        {
          "output_type": "stream",
          "name": "stdout",
          "text": [
            "Reshaped array shape: (5, 5, 8)\n"
          ]
        }
      ]
    },
    {
      "cell_type": "code",
      "source": [
        "# 6. Splitting the array into two halves and then putting them back together\n",
        "split1, split2 = np.split(data, 2)\n",
        "concatenated_array = np.concatenate((split1, split2))\n",
        "print(split1)\n",
        "print(split2)\n",
        "print(concatenated_array)"
      ],
      "metadata": {
        "colab": {
          "base_uri": "https://localhost:8080/",
          "height": 0
        },
        "id": "-Shc1_Vg_aUL",
        "outputId": "5e93bcdc-325c-405b-c840-c222b4001105"
      },
      "execution_count": 13,
      "outputs": [
        {
          "output_type": "stream",
          "name": "stdout",
          "text": [
            "[[2.61688e+03 2.18000e+00 7.06000e+01 ... 3.64610e+02 4.11730e+02\n",
            "  2.86300e+01]\n",
            " [3.63159e+03 2.32500e+01 8.91100e+01 ... 4.20960e+02 4.86210e+02\n",
            "  4.10400e+01]\n",
            " [4.53949e+03 5.27500e+01 1.00080e+02 ... 4.63680e+02 5.41950e+02\n",
            "  4.91400e+01]\n",
            " ...\n",
            " [6.51550e+03 1.32320e+02 5.96300e+01 ... 6.13260e+02 7.11770e+02\n",
            "  1.79900e+01]\n",
            " [8.01086e+03 1.96700e+02 6.92300e+01 ... 6.79080e+02 7.89700e+02\n",
            "  1.77300e+01]\n",
            " [6.67572e+03 1.43050e+02 8.63700e+01 ... 5.75550e+02 6.63860e+02\n",
            "  2.02700e+01]]\n",
            "[[7.37000e+03 1.37690e+02 1.20640e+02 ... 6.37630e+02 7.40850e+02\n",
            "  3.34400e+01]\n",
            " [7.79724e+03 9.29800e+01 1.80960e+02 ... 7.06740e+02 8.19320e+02\n",
            "  4.25600e+01]\n",
            " [2.72369e+03 1.49800e+01 9.73300e+01 ... 3.28270e+02 3.65850e+02\n",
            "  1.60900e+01]\n",
            " ...\n",
            " [1.92261e+03 8.16000e+00 4.01000e+01 ... 2.42490e+02 2.96070e+02\n",
            "  1.25400e+01]\n",
            " [1.36185e+03 9.05000e+00 5.27800e+01 ... 1.65670e+02 1.91820e+02\n",
            "  7.47000e+00]\n",
            " [1.13487e+03 8.61000e+00 5.68900e+01 ... 1.23760e+02 1.40260e+02\n",
            "  5.51000e+00]]\n",
            "[[2.61688e+03 2.18000e+00 7.06000e+01 ... 3.64610e+02 4.11730e+02\n",
            "  2.86300e+01]\n",
            " [3.63159e+03 2.32500e+01 8.91100e+01 ... 4.20960e+02 4.86210e+02\n",
            "  4.10400e+01]\n",
            " [4.53949e+03 5.27500e+01 1.00080e+02 ... 4.63680e+02 5.41950e+02\n",
            "  4.91400e+01]\n",
            " ...\n",
            " [1.92261e+03 8.16000e+00 4.01000e+01 ... 2.42490e+02 2.96070e+02\n",
            "  1.25400e+01]\n",
            " [1.36185e+03 9.05000e+00 5.27800e+01 ... 1.65670e+02 1.91820e+02\n",
            "  7.47000e+00]\n",
            " [1.13487e+03 8.61000e+00 5.68900e+01 ... 1.23760e+02 1.40260e+02\n",
            "  5.51000e+00]]\n"
          ]
        }
      ]
    },
    {
      "cell_type": "code",
      "source": [
        "# 7. Some basic math on the dataset\n",
        "print(\"Column-wise Mean:\", np.mean(data, axis=0))\n",
        "print(\"Column-wise Sum:\", np.sum(data, axis=0))"
      ],
      "metadata": {
        "colab": {
          "base_uri": "https://localhost:8080/",
          "height": 0
        },
        "id": "a36MzJGc_crv",
        "outputId": "2320efb1-7ef9-4604-c361-38a1c43bb7ef"
      },
      "execution_count": 11,
      "outputs": [
        {
          "output_type": "stream",
          "name": "stdout",
          "text": [
            "Column-wise Mean: [2929.2286275    33.66070196   66.221299     60.34623935   66.69363283\n",
            "  238.1303089   300.09296602   25.10981519]\n",
            "Column-wise Sum: [54999196.71000001   632013.34        1243371.11        1133060.99\n",
            "  1252239.65        4471134.68        5634545.53         471461.89      ]\n"
          ]
        }
      ]
    },
    {
      "cell_type": "code",
      "source": [
        "# 8. Broadcasting array\n",
        "offset = np.array([1, 2, 3, 4, 5, 6, 7, 8])\n",
        "broadcasted_array = data[:5] + offset\n",
        "print(\"Array after broadcasting:\", broadcasted_array)"
      ],
      "metadata": {
        "colab": {
          "base_uri": "https://localhost:8080/",
          "height": 0
        },
        "id": "SbQogKT9_d0r",
        "outputId": "a778cd8e-1b5a-4a2c-9242-e342423b81fd"
      },
      "execution_count": 12,
      "outputs": [
        {
          "output_type": "stream",
          "name": "stdout",
          "text": [
            "Array after broadcasting: [[2.61788e+03 4.18000e+00 7.36000e+01 1.75900e+01 4.36200e+01 3.70610e+02\n",
            "  4.18730e+02 3.66300e+01]\n",
            " [3.63259e+03 2.52500e+01 9.21100e+01 4.33000e+00 5.93600e+01 4.26960e+02\n",
            "  4.93210e+02 4.90400e+01]\n",
            " [4.54049e+03 5.47500e+01 1.03080e+02 5.11000e+00 7.36700e+01 4.69680e+02\n",
            "  5.48950e+02 5.71400e+01]\n",
            " [4.54049e+03 5.29600e+01 1.14040e+02 1.04400e+01 8.32000e+01 4.60810e+02\n",
            "  5.41000e+02 5.61300e+01]\n",
            " [4.38027e+03 4.49200e+01 1.20900e+02 2.11700e+01 9.27400e+01 4.54140e+02\n",
            "  5.36190e+02 5.46100e+01]]\n"
          ]
        }
      ]
    },
    {
      "cell_type": "code",
      "source": [
        "# 9. Finding rows where PM2.5 is higher than 100\n",
        "high_pm2_5 = data[:, 5] > 100\n",
        "print(\"Rows where PM2.5 is above 100:\", data[high_pm2_5])"
      ],
      "metadata": {
        "colab": {
          "base_uri": "https://localhost:8080/",
          "height": 0
        },
        "id": "FT56-ohm_gRJ",
        "outputId": "5a04182b-a411-461d-efb0-5112802e9783"
      },
      "execution_count": 14,
      "outputs": [
        {
          "output_type": "stream",
          "name": "stdout",
          "text": [
            "Rows where PM2.5 is above 100: [[2.61688e+03 2.18000e+00 7.06000e+01 ... 3.64610e+02 4.11730e+02\n",
            "  2.86300e+01]\n",
            " [3.63159e+03 2.32500e+01 8.91100e+01 ... 4.20960e+02 4.86210e+02\n",
            "  4.10400e+01]\n",
            " [4.53949e+03 5.27500e+01 1.00080e+02 ... 4.63680e+02 5.41950e+02\n",
            "  4.91400e+01]\n",
            " ...\n",
            " [1.92261e+03 8.16000e+00 4.01000e+01 ... 2.42490e+02 2.96070e+02\n",
            "  1.25400e+01]\n",
            " [1.36185e+03 9.05000e+00 5.27800e+01 ... 1.65670e+02 1.91820e+02\n",
            "  7.47000e+00]\n",
            " [1.13487e+03 8.61000e+00 5.68900e+01 ... 1.23760e+02 1.40260e+02\n",
            "  5.51000e+00]]\n"
          ]
        }
      ]
    },
    {
      "cell_type": "code",
      "source": [
        "# 10. Picking specific rows using fancy indexing\n",
        "indices = [0, 2, 4]\n",
        "print(\"Selected rows:\", data[indices])"
      ],
      "metadata": {
        "colab": {
          "base_uri": "https://localhost:8080/",
          "height": 0
        },
        "id": "oUV4Qesr_iHq",
        "outputId": "9fac770d-7bdf-44c0-efa4-1b73c428f22b"
      },
      "execution_count": 15,
      "outputs": [
        {
          "output_type": "stream",
          "name": "stdout",
          "text": [
            "Selected rows: [[2.61688e+03 2.18000e+00 7.06000e+01 1.35900e+01 3.86200e+01 3.64610e+02\n",
            "  4.11730e+02 2.86300e+01]\n",
            " [4.53949e+03 5.27500e+01 1.00080e+02 1.11000e+00 6.86700e+01 4.63680e+02\n",
            "  5.41950e+02 4.91400e+01]\n",
            " [4.37927e+03 4.29200e+01 1.17900e+02 1.71700e+01 8.77400e+01 4.48140e+02\n",
            "  5.29190e+02 4.66100e+01]]\n"
          ]
        }
      ]
    },
    {
      "cell_type": "code",
      "source": [
        "# 11. Sorting data in different ways\n",
        "sorted_data = np.sort(data, axis=0)  # Sort each column individually\n",
        "argsorted_indices = np.argsort(data[:, 0])  # Indices that sort the first column\n",
        "partial_sorted = np.partition(data[:, 0], 5)[:5]  # Get the 5 smallest elements from the first column\n",
        "print(argsorted_indices)\n",
        "print(partial_sorted)\n",
        "print(sorted_data)"
      ],
      "metadata": {
        "colab": {
          "base_uri": "https://localhost:8080/",
          "height": 0
        },
        "id": "XgOjA-DW_kC0",
        "outputId": "8ea62f9c-8c23-4f1d-d0f2-d2449055f1e2"
      },
      "execution_count": 18,
      "outputs": [
        {
          "output_type": "stream",
          "name": "stdout",
          "text": [
            "[13449 13448 13303 ...  8561 17176  8560]\n",
            "[260.35 263.69 267.03 270.37 270.37]\n",
            "[[2.603500e+02 0.000000e+00 4.280000e+00 ... 1.183000e+01 1.507000e+01\n",
            "  0.000000e+00]\n",
            " [2.636900e+02 0.000000e+00 4.330000e+00 ... 1.259000e+01 1.521000e+01\n",
            "  0.000000e+00]\n",
            " [2.670300e+02 0.000000e+00 4.540000e+00 ... 1.261000e+01 1.574000e+01\n",
            "  0.000000e+00]\n",
            " ...\n",
            " [2.072144e+04 4.792200e+02 4.441700e+02 ... 1.599590e+03 1.836560e+03\n",
            "  2.715600e+02]\n",
            " [2.072144e+04 5.006800e+02 4.441700e+02 ... 1.627520e+03 1.870690e+03\n",
            "  2.756100e+02]\n",
            " [2.114868e+04 5.006800e+02 4.606200e+02 ... 1.708090e+03 1.969930e+03\n",
            "  2.877700e+02]]\n"
          ]
        }
      ]
    },
    {
      "cell_type": "code",
      "source": [
        "# 12. Creating a structured array with column names\n",
        "dtype = [('co', 'f8'), ('no', 'f8'), ('no2', 'f8')]\n",
        "structured_array = np.array(list(zip(data[:, 0], data[:, 1], data[:, 2])), dtype=dtype)\n",
        "print(\"Structured Array:\", structured_array)"
      ],
      "metadata": {
        "colab": {
          "base_uri": "https://localhost:8080/",
          "height": 0
        },
        "id": "uXJPbc-1_l_k",
        "outputId": "5b51ed90-0c2c-4192-ae8b-437e5a6009b8"
      },
      "execution_count": 17,
      "outputs": [
        {
          "output_type": "stream",
          "name": "stdout",
          "text": [
            "Structured Array: [(2616.88,  2.18,  70.6 ) (3631.59, 23.25,  89.11)\n",
            " (4539.49, 52.75, 100.08) ... (1922.61,  8.16,  40.1 )\n",
            " (1361.85,  9.05,  52.78) (1134.87,  8.61,  56.89)]\n"
          ]
        }
      ]
    }
  ]
}